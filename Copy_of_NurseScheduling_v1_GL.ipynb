{
  "nbformat": 4,
  "nbformat_minor": 0,
  "metadata": {
    "colab": {
      "provenance": []
    },
    "kernelspec": {
      "name": "python3",
      "display_name": "Python 3"
    },
    "language_info": {
      "name": "python"
    }
  },
  "cells": [
    {
      "cell_type": "code",
      "execution_count": null,
      "metadata": {
        "colab": {
          "base_uri": "https://localhost:8080/"
        },
        "id": "u6ngd2kZxfqI",
        "outputId": "ba17730b-20a8-4ecc-de9e-798747cf295d"
      },
      "outputs": [
        {
          "output_type": "stream",
          "name": "stdout",
          "text": [
            "Collecting pulp\n",
            "  Downloading PuLP-2.9.0-py3-none-any.whl.metadata (5.4 kB)\n",
            "Downloading PuLP-2.9.0-py3-none-any.whl (17.7 MB)\n",
            "\u001b[2K   \u001b[90m━━━━━━━━━━━━━━━━━━━━━━━━━━━━━━━━━━━━━━━━\u001b[0m \u001b[32m17.7/17.7 MB\u001b[0m \u001b[31m31.2 MB/s\u001b[0m eta \u001b[36m0:00:00\u001b[0m\n",
            "\u001b[?25hInstalling collected packages: pulp\n",
            "Successfully installed pulp-2.9.0\n"
          ]
        }
      ],
      "source": [
        "#install pulp library\n",
        "%pip install pulp\n",
        "\n",
        "#import PuLP modeler function\n",
        "from pulp import *"
      ]
    },
    {
      "cell_type": "markdown",
      "source": [
        "Objective: Understand how to program a mixed integer linear programming case study in Python using PuLP"
      ],
      "metadata": {
        "id": "eVKjIJ6C2RV2"
      }
    },
    {
      "cell_type": "markdown",
      "source": [
        "You are the ED manager that wish to create a resource scheduling algorithm for assigning the nurses to patient. Your objective is to minimize total waiting time of the patients.\n",
        "This is a step-by-step exercise. You will start to make the program from simplest case (sequencing tasks in 1 nurse)."
      ],
      "metadata": {
        "id": "uyV-0zRh2a2S"
      }
    },
    {
      "cell_type": "markdown",
      "source": [
        "##### Q1: we start by assuming that we only want to sequence or order the 6 patients that are assigned to a nurse. Currently, we assume that all patients arrive at the same time (at time zero) and they are in the same triage level. We were given the treatment time of these 6 patients as follows:\n",
        "Patient 1: 34, Patient 2: 18, Patient 3: 34, Patient 4: 31, Patient 5: 7, Patient 6: 11"
      ],
      "metadata": {
        "id": "kbiDrP893MUJ"
      }
    },
    {
      "cell_type": "markdown",
      "source": [
        "a. Create two lists: 1. list that contains 0 as the first element, *then* all treatment time of the 6 patients. 2. list that containts index of patients from 0 to 6"
      ],
      "metadata": {
        "id": "mhBfGnGQ3138"
      }
    },
    {
      "cell_type": "code",
      "source": [],
      "metadata": {
        "id": "T4Ej0UEM5Byk"
      },
      "execution_count": null,
      "outputs": []
    },
    {
      "cell_type": "markdown",
      "source": [
        "b. create dictionaries from the 2 lists above, with index of patients as key and treatment time as value"
      ],
      "metadata": {
        "id": "t63Li7c64OBs"
      }
    },
    {
      "cell_type": "code",
      "source": [],
      "metadata": {
        "id": "jzpTSvGk5DJd"
      },
      "execution_count": null,
      "outputs": []
    },
    {
      "cell_type": "markdown",
      "source": [
        "c. create variable to store problem data of our MILP"
      ],
      "metadata": {
        "id": "PgSnn8Wu4nJl"
      }
    },
    {
      "cell_type": "code",
      "source": [],
      "metadata": {
        "id": "4NjRORnn5ESy"
      },
      "execution_count": null,
      "outputs": []
    },
    {
      "cell_type": "markdown",
      "source": [
        "d. create our decision variables. There are 3 decision variables: <br>\n",
        "(let j = index of patients) <br>\n",
        "sⱼ = start time of patient j <br>\n",
        "cⱼ = completion time of patient j <br>\n",
        "zⱼₖ = binary variable (1 if patient k is treated directly after patient j)"
      ],
      "metadata": {
        "id": "z1QG24rD5AMZ"
      }
    },
    {
      "cell_type": "code",
      "source": [],
      "metadata": {
        "id": "jKGzzeDEzBeu"
      },
      "execution_count": null,
      "outputs": []
    },
    {
      "cell_type": "markdown",
      "source": [
        "e. Create objective function. Min a = sum of sⱼ"
      ],
      "metadata": {
        "id": "Bsubx-Of6OA-"
      }
    },
    {
      "cell_type": "code",
      "source": [],
      "metadata": {
        "id": "utlLflzBzHhp"
      },
      "execution_count": null,
      "outputs": []
    },
    {
      "cell_type": "markdown",
      "source": [
        "Here are the constraints"
      ],
      "metadata": {
        "id": "8M_J9lT36eY0"
      }
    },
    {
      "cell_type": "code",
      "source": [
        "#constraints\n",
        "#Constraint 1: to make sure that for every patients, the completion time is defined as the total of start time and treatment time\n",
        "for j in range(1, len(patientIndex)):\n",
        "    prob += s[j] + treatmentPatient[j] == c[j]\n",
        "\n",
        "#Constraint 2: to make sure that if patient k is treated directly after patient j, the completion time patient j should be equal to or smaller than start time of patient k\n",
        "for j in range(1, len(patientIndex)):\n",
        "    for k in range(1, len(patientIndex)):\n",
        "        if j != k:\n",
        "            prob += c[j] - s[k] <= 1000 * (1 - z[j][k])\n",
        "\n",
        "#Constraint 3: to make sure that each patient has his predecessor (including the first one that has dummy patient with index 0 as predecessor)\n",
        "for k in range(1, len(patientIndex)):\n",
        "    prob += lpSum(z[j][k] for j in patientIndex if j != k) == 1\n",
        "\n",
        "#Constraint 4: to make sure that each patient has his successor (except the last one)\n",
        "for j in range(len(patientIndex)):\n",
        "    prob += lpSum(z[j][k] for k in range(1, len(patientIndex)) if j != k) <= 1"
      ],
      "metadata": {
        "id": "bdWHKFo7zJBN"
      },
      "execution_count": null,
      "outputs": []
    },
    {
      "cell_type": "markdown",
      "source": [
        "f. Write the program to .lp file and solve the problem. Display also the result"
      ],
      "metadata": {
        "id": "OPufCO2f7oAG"
      }
    },
    {
      "cell_type": "code",
      "source": [],
      "metadata": {
        "id": "wjawTBQH0A_g"
      },
      "execution_count": null,
      "outputs": []
    },
    {
      "cell_type": "markdown",
      "source": [
        "###### Q2: Now, we assume that all patients arrive at different time. The arrival time of 6 patients: <br>\n",
        "Patient 1: 0, Patient 2: 4, Patient 3: 6, Patient 4: 11, Patient 5: 17, Patient 6: 21"
      ],
      "metadata": {
        "id": "vdPOk53G74PB"
      }
    },
    {
      "cell_type": "markdown",
      "source": [
        "a. Create a list for all arrival time (put 0 at index 0) and create dictionaires for patient index and arrival time"
      ],
      "metadata": {
        "id": "IuGHttXX8kVr"
      }
    },
    {
      "cell_type": "code",
      "source": [],
      "metadata": {
        "id": "85RoUBL-8eKe"
      },
      "execution_count": null,
      "outputs": []
    },
    {
      "cell_type": "markdown",
      "source": [
        "b. retype the problem data variable initialisation and the decision variable"
      ],
      "metadata": {
        "id": "r_aOW8zX8zFA"
      }
    },
    {
      "cell_type": "code",
      "source": [],
      "metadata": {
        "id": "0Dd9MnWg9eno"
      },
      "execution_count": null,
      "outputs": []
    },
    {
      "cell_type": "markdown",
      "source": [
        "c. modify the objective function: Min a = sum of (sⱼ - aⱼ)"
      ],
      "metadata": {
        "id": "lRJnj9px9H0u"
      }
    },
    {
      "cell_type": "code",
      "source": [],
      "metadata": {
        "id": "vb_aAWfF9fp7"
      },
      "execution_count": null,
      "outputs": []
    },
    {
      "cell_type": "markdown",
      "source": [
        "d. Modify the constraint: add constraint that tells for each patient, the start time should be equal to or larger than the arrival time"
      ],
      "metadata": {
        "id": "VgTUb9YD9E6Z"
      }
    },
    {
      "cell_type": "code",
      "source": [],
      "metadata": {
        "id": "4moMU7jt9gzQ"
      },
      "execution_count": null,
      "outputs": []
    },
    {
      "cell_type": "markdown",
      "source": [
        "e. solve the MILP problem"
      ],
      "metadata": {
        "id": "NELxzLi09Wga"
      }
    },
    {
      "cell_type": "code",
      "source": [],
      "metadata": {
        "id": "cG4t72Ad9hz7"
      },
      "execution_count": null,
      "outputs": []
    },
    {
      "cell_type": "markdown",
      "source": [
        "###### Q3: Now, we assume that all patients have different triage level. The arrival time of 6 patients: <br>\n",
        "Patient 1: 1, Patient 2: 4, Patient 3: 2, Patient 4: 1, Patient 5: 5, Patient 6: 5 <br>\n",
        "Each triage level has its own weight: <br>\n",
        "Triage level 1: 10^8, Triage level 2: 10^6, Triage level 3: 10^4, Triage level 4: 100, Triage level 5: 1 <br>\n",
        "a. Create list of triage level <br>\n",
        "b. Create list of weight that correspond to triage level <br>\n",
        "c. Create a dictionary which key is the index of patient and value is the weight <br>\n",
        "d. Modify the objective function: Min a = sum of wⱼ(sⱼ - aⱼ), with wⱼ is the weight <br>\n",
        "e. Solve the problem"
      ],
      "metadata": {
        "id": "Xk2pTeCo9dLU"
      }
    }
  ]
}