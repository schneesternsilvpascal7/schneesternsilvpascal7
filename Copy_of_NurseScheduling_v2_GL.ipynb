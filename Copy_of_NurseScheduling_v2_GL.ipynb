{
  "nbformat": 4,
  "nbformat_minor": 0,
  "metadata": {
    "colab": {
      "provenance": [],
      "include_colab_link": true
    },
    "kernelspec": {
      "name": "python3",
      "display_name": "Python 3"
    },
    "language_info": {
      "name": "python"
    }
  },
  "cells": [
    {
      "cell_type": "markdown",
      "metadata": {
        "id": "view-in-github",
        "colab_type": "text"
      },
      "source": [
        "<a href=\"https://colab.research.google.com/github/schneesternsilvpascal7/schneesternsilvpascal7/blob/main/Copy_of_NurseScheduling_v2_GL.ipynb\" target=\"_parent\"><img src=\"https://colab.research.google.com/assets/colab-badge.svg\" alt=\"Open In Colab\"/></a>"
      ]
    },
    {
      "cell_type": "code",
      "execution_count": 32,
      "metadata": {
        "colab": {
          "base_uri": "https://localhost:8080/"
        },
        "id": "u6ngd2kZxfqI",
        "outputId": "bef3af32-9354-491a-e17c-b95d9ace3b13"
      },
      "outputs": [
        {
          "output_type": "stream",
          "name": "stdout",
          "text": [
            "Requirement already satisfied: pulp in /usr/local/lib/python3.10/dist-packages (2.9.0)\n"
          ]
        }
      ],
      "source": [
        "#install pulp library\n",
        "%pip install pulp\n",
        "\n",
        "#import PuLP modeler function\n",
        "from pulp import *\n",
        "\n",
        "#import matplotlib for data visualisation\n",
        "import matplotlib.pyplot as plt"
      ]
    },
    {
      "cell_type": "markdown",
      "source": [
        "Objective: Understand how to program a mixed integer linear programming case study in Python using PuLP"
      ],
      "metadata": {
        "id": "eVKjIJ6C2RV2"
      }
    },
    {
      "cell_type": "markdown",
      "source": [
        "You are the ED manager that wish to create a resource scheduling algorithm for assigning the nurses to patient. Your objective is to minimize total waiting time of the patients.\n",
        "This is a step-by-step exercise. You will start to make the program from simplest case (sequencing tasks in 1 nurse)."
      ],
      "metadata": {
        "id": "uyV-0zRh2a2S"
      }
    },
    {
      "cell_type": "markdown",
      "source": [
        "##### Q1: we start by assuming that we only want to sequence or order the 6 patients that are assigned to a nurse. Currently, we assume that all patients arrive at the same time (at time zero) and they are in the same triage level. We were given the treatment time of these 6 patients as follows:\n",
        "Patient 1: 34, Patient 2: 18, Patient 3: 34, Patient 4: 31, Patient 5: 7, Patient 6: 11"
      ],
      "metadata": {
        "id": "kbiDrP893MUJ"
      }
    },
    {
      "cell_type": "markdown",
      "source": [
        "a. Create two lists: 1. list that contains 0 as the first element, *then* all treatment time of the 6 patients. 2. list that containts index of patients from 0 to 6"
      ],
      "metadata": {
        "id": "mhBfGnGQ3138"
      }
    },
    {
      "cell_type": "code",
      "source": [
        "patientIndex = [0, 1, 2, 3, 4, 5, 6]\n",
        "treatmentTime = [0, 34, 18, 34, 31, 7, 11]"
      ],
      "metadata": {
        "id": "T4Ej0UEM5Byk"
      },
      "execution_count": 33,
      "outputs": []
    },
    {
      "cell_type": "markdown",
      "source": [
        "b. create dictionaries from the 2 lists above, with index of patients as key and treatment time as value"
      ],
      "metadata": {
        "id": "t63Li7c64OBs"
      }
    },
    {
      "cell_type": "code",
      "source": [
        "treatmentPatient = dict(zip(patientIndex, treatmentTime))"
      ],
      "metadata": {
        "id": "jzpTSvGk5DJd"
      },
      "execution_count": 34,
      "outputs": []
    },
    {
      "cell_type": "markdown",
      "source": [
        "c. create variable to store problem data of our MILP"
      ],
      "metadata": {
        "id": "PgSnn8Wu4nJl"
      }
    },
    {
      "cell_type": "code",
      "source": [
        "prob = LpProblem(\"NurseSchedv1\", LpMinimize)"
      ],
      "metadata": {
        "id": "4NjRORnn5ESy"
      },
      "execution_count": 35,
      "outputs": []
    },
    {
      "cell_type": "markdown",
      "source": [
        "d. create our decision variables. There are 3 decision variables: <br>\n",
        "(let j = index of patients) <br>\n",
        "sⱼ = start time of patient j <br>\n",
        "cⱼ = completion time of patient j <br>\n",
        "zⱼₖ = binary variable (1 if patient k is treated directly after patient j)"
      ],
      "metadata": {
        "id": "z1QG24rD5AMZ"
      }
    },
    {
      "cell_type": "code",
      "source": [
        "s = LpVariable.dicts(\"s\", patientIndex, 0, None, LpInteger) #s_0, s_1, s_2, ...\n",
        "c = LpVariable.dicts(\"c\", patientIndex, 0, None, LpInteger)\n",
        "z = LpVariable.dicts(\"z\", (patientIndex, patientIndex), 0, None, LpBinary)"
      ],
      "metadata": {
        "id": "jKGzzeDEzBeu"
      },
      "execution_count": 36,
      "outputs": []
    },
    {
      "cell_type": "markdown",
      "source": [
        "e. Create objective function. Min a = sum of sⱼ"
      ],
      "metadata": {
        "id": "Bsubx-Of6OA-"
      }
    },
    {
      "cell_type": "code",
      "source": [
        "prob += lpSum(s[j] for j in patientIndex)"
      ],
      "metadata": {
        "id": "utlLflzBzHhp"
      },
      "execution_count": 37,
      "outputs": []
    },
    {
      "cell_type": "markdown",
      "source": [
        "Here are the constraints"
      ],
      "metadata": {
        "id": "8M_J9lT36eY0"
      }
    },
    {
      "cell_type": "code",
      "source": [
        "#constraints\n",
        "#Constraint 1: to make sure that for every patients, the completion time is defined as the total of start time and treatment time\n",
        "for j in range(1, len(patientIndex)):\n",
        "    prob += s[j] + treatmentPatient[j] == c[j]\n",
        "\n",
        "#Constraint 2: to make sure that if patient k is treated directly after patient j, the completion time patient j should be equal to or smaller than start time of patient k\n",
        "for j in range(1, len(patientIndex)):\n",
        "    for k in range(1, len(patientIndex)):\n",
        "        if j != k:\n",
        "            prob += c[j] - s[k] <= 1000 * (1 - z[j][k])\n",
        "\n",
        "#Constraint 3: to make sure that each patient has his predecessor (including the first one that has dummy patient with index 0 as predecessor)\n",
        "for k in range(1, len(patientIndex)):\n",
        "    prob += lpSum(z[j][k] for j in patientIndex if j != k) == 1\n",
        "\n",
        "#Constraint 4: to make sure that each patient has his successor (except the last one)\n",
        "for j in range(len(patientIndex)):\n",
        "    prob += lpSum(z[j][k] for k in range(1, len(patientIndex)) if j != k) <= 1"
      ],
      "metadata": {
        "id": "bdWHKFo7zJBN"
      },
      "execution_count": 38,
      "outputs": []
    },
    {
      "cell_type": "markdown",
      "source": [
        "f. Write the program to .lp file and solve the problem. Display also the result"
      ],
      "metadata": {
        "id": "OPufCO2f7oAG"
      }
    },
    {
      "cell_type": "code",
      "source": [
        "prob.solve()\n",
        "print(\"status:\", LpStatus[prob.status])\n",
        "\n",
        "print(\"Total waiting time = \", value(prob.objective))"
      ],
      "metadata": {
        "id": "wjawTBQH0A_g",
        "colab": {
          "base_uri": "https://localhost:8080/"
        },
        "outputId": "bf5c6432-0ec7-4bf4-f9ec-4da88669f550"
      },
      "execution_count": 39,
      "outputs": [
        {
          "output_type": "stream",
          "name": "stdout",
          "text": [
            "status: Optimal\n",
            "Total waiting time =  229.0\n"
          ]
        }
      ]
    },
    {
      "cell_type": "markdown",
      "source": [
        "g. We want to know when the patient 5 is treated. How to access only the start time of patient 5?"
      ],
      "metadata": {
        "id": "HNl6GxoM0_lw"
      }
    },
    {
      "cell_type": "code",
      "source": [
        "treatmentTime[5]"
      ],
      "metadata": {
        "colab": {
          "base_uri": "https://localhost:8080/"
        },
        "id": "t2gYTyteaCHd",
        "outputId": "fb30f647-ce05-473c-c418-432192e581e9"
      },
      "execution_count": 40,
      "outputs": [
        {
          "output_type": "execute_result",
          "data": {
            "text/plain": [
              "7"
            ]
          },
          "metadata": {},
          "execution_count": 40
        }
      ]
    },
    {
      "cell_type": "markdown",
      "source": [
        "h. (extra knowledge) plot the schedule of the nurse"
      ],
      "metadata": {
        "id": "kTXY9Jpd1OrT"
      }
    },
    {
      "cell_type": "code",
      "source": [
        "fig, ax = plt.subplots(figsize=(10, 2))\n",
        "ax.set_yticks([10])\n",
        "ax.set_yticklabels(['Nurse A'])\n",
        "\n",
        "for j in range(1, len(patientIndex)):\n",
        "    ax.broken_barh([(s[j].varValue, treatmentTime[j])], (5, 9), edgecolor='black')\n",
        "    ax.text(x=(s[j].varValue+ 0.5*treatmentTime[j]), y=9.5, s=j)"
      ],
      "metadata": {
        "colab": {
          "base_uri": "https://localhost:8080/",
          "height": 214
        },
        "id": "Fc4nAJ9eXvJ_",
        "outputId": "a7d1876a-7e6f-4082-dd20-a8ec8e428b25"
      },
      "execution_count": 41,
      "outputs": [
        {
          "output_type": "display_data",
          "data": {
            "text/plain": [
              "<Figure size 1000x200 with 1 Axes>"
            ],
            "image/png": "[encoded data removed]"
          },
          "metadata": {}
        }
      ]
    },
    {
      "cell_type": "markdown",
      "source": [
        "###### Q2: Now, we assume that all patients arrive at different time. The arrival time of 6 patients: <br>\n",
        "Patient 1: 0, Patient 2: 4, Patient 3: 6, Patient 4: 11, Patient 5: 17, Patient 6: 21"
      ],
      "metadata": {
        "id": "vdPOk53G74PB"
      }
    },
    {
      "cell_type": "markdown",
      "source": [
        "a. Create a list for all arrival time (put 0 at index 0) and create dictionaires named *arrivalPatient* for patient index and arrival time"
      ],
      "metadata": {
        "id": "IuGHttXX8kVr"
      }
    },
    {
      "cell_type": "code",
      "source": [
        "arrivalTime = [0, 0, 4, 6, 11, 17, 21]\n",
        "arrivalPatient = dict(zip(patientIndex, arrivalTime))"
      ],
      "metadata": {
        "id": "85RoUBL-8eKe"
      },
      "execution_count": 42,
      "outputs": []
    },
    {
      "cell_type": "markdown",
      "source": [
        "b. retype the problem data variable initialisation and the decision variable"
      ],
      "metadata": {
        "id": "r_aOW8zX8zFA"
      }
    },
    {
      "cell_type": "code",
      "source": [
        "prob = LpProblem(\"NurseSchedq2\", LpMinimize)\n",
        "\n",
        "s = LpVariable.dicts(\"s\", patientIndex, 0, None, LpInteger) #s_0, s_1, s_2, ...\n",
        "c = LpVariable.dicts(\"c\", patientIndex, 0, None, LpInteger)\n",
        "z = LpVariable.dicts(\"z\", (patientIndex, patientIndex), 0, None, LpBinary)"
      ],
      "metadata": {
        "id": "0Dd9MnWg9eno"
      },
      "execution_count": 43,
      "outputs": []
    },
    {
      "cell_type": "markdown",
      "source": [
        "c. modify the objective function: Min a = sum of (sⱼ - aⱼ)"
      ],
      "metadata": {
        "id": "lRJnj9px9H0u"
      }
    },
    {
      "cell_type": "code",
      "source": [
        "prob += lpSum((s[j] - arrivalPatient[j]) for j in patientIndex)"
      ],
      "metadata": {
        "id": "vb_aAWfF9fp7"
      },
      "execution_count": 44,
      "outputs": []
    },
    {
      "cell_type": "markdown",
      "source": [
        "d. Modify the constraint: add constraint that tells for each patient, the start time should be equal to or larger than the arrival time"
      ],
      "metadata": {
        "id": "VgTUb9YD9E6Z"
      }
    },
    {
      "cell_type": "code",
      "source": [
        "#constraints\n",
        "#Constraint 1: to make sure that for every patients, the completion time is defined as the total of start time and treatment time\n",
        "for j in range(1, len(patientIndex)):\n",
        "    prob += s[j] + treatmentPatient[j] == c[j]\n",
        "\n",
        "#Constraint 2: to make sure that if patient k is treated directly after patient j, the completion time patient j should be equal to or smaller than start time of patient k\n",
        "for j in range(1, len(patientIndex)):\n",
        "    for k in range(1, len(patientIndex)):\n",
        "        if j != k:\n",
        "            prob += c[j] - s[k] <= 1000 * (1 - z[j][k])\n",
        "\n",
        "#Constraint 3: to make sure that each patient has his predecessor (including the first one that has dummy patient with index 0 as predecessor)\n",
        "for k in range(1, len(patientIndex)):\n",
        "    prob += lpSum(z[j][k] for j in patientIndex if j != k) == 1\n",
        "\n",
        "#Constraint 4: to make sure that each patient has his successor (except the last one)\n",
        "for j in range(len(patientIndex)):\n",
        "    prob += lpSum(z[j][k] for k in range(1, len(patientIndex)) if j != k) <= 1\n",
        "\n",
        "#Constraint 5: to make sure that for every patients, the treatment start time is larger than or equal to arrival time\n",
        "for j in range(1, len(patientIndex)):\n",
        "    prob += s[j] >= arrivalPatient[j]\n"
      ],
      "metadata": {
        "id": "4moMU7jt9gzQ"
      },
      "execution_count": 45,
      "outputs": []
    },
    {
      "cell_type": "markdown",
      "source": [
        "e. solve the MILP problem"
      ],
      "metadata": {
        "id": "NELxzLi09Wga"
      }
    },
    {
      "cell_type": "code",
      "source": [
        "prob.solve()\n",
        "print(\"status:\", LpStatus[prob.status])\n",
        "\n",
        "print(\"Total waiting time = \", value(prob.objective))"
      ],
      "metadata": {
        "id": "cG4t72Ad9hz7",
        "colab": {
          "base_uri": "https://localhost:8080/"
        },
        "outputId": "8f14bb7a-14a9-41f5-8390-b0ec2168c6ec"
      },
      "execution_count": 46,
      "outputs": [
        {
          "output_type": "stream",
          "name": "stdout",
          "text": [
            "status: Optimal\n",
            "Total waiting time =  212.0\n"
          ]
        }
      ]
    },
    {
      "cell_type": "markdown",
      "source": [
        "f. Visualisation: plot the schedule"
      ],
      "metadata": {
        "id": "rF9ftA1_44V7"
      }
    },
    {
      "cell_type": "code",
      "source": [
        "fig, ax = plt.subplots(figsize=(10, 2))\n",
        "ax.set_yticks([10])\n",
        "ax.set_yticklabels(['Nurse A'])\n",
        "\n",
        "for j in range(1, len(patientIndex)):\n",
        "    ax.broken_barh([(s[j].varValue, treatmentTime[j])], (5, 9), edgecolor='black')\n",
        "    ax.text(x=(s[j].varValue+ 0.5*treatmentTime[j]), y=9.5, s=j)"
      ],
      "metadata": {
        "id": "NIuuYDrZ47q_",
        "colab": {
          "base_uri": "https://localhost:8080/",
          "height": 214
        },
        "outputId": "5c53e791-5486-441f-d48e-e7bf3c250598"
      },
      "execution_count": 47,
      "outputs": [
        {
          "output_type": "display_data",
          "data": {
            "text/plain": [
              "<Figure size 1000x200 with 1 Axes>"
            ],
            "image/png": "[encoded data removed]"
          },
          "metadata": {}
        }
      ]
    },
    {
      "cell_type": "markdown",
      "source": [
        "###### Q3: Now, we assume that all patients have different triage level. The arrival time of 6 patients: <br>\n",
        "Patient 1: 1, Patient 2: 4, Patient 3: 2, Patient 4: 1, Patient 5: 5, Patient 6: 5 <br>\n",
        "Each triage level has its own weight: <br>\n",
        "Triage level 1: 10^8, Triage level 2: 10^6, Triage level 3: 10^4, Triage level 4: 100, Triage level 5: 1 <br>\n",
        "a. Create list of triage level <br>"
      ],
      "metadata": {
        "id": "Xk2pTeCo9dLU"
      }
    },
    {
      "cell_type": "code",
      "source": [
        "TriageLevel = [0, 1, 4, 2, 1, 5, 5]\n"
      ],
      "metadata": {
        "id": "BBtqvShgMqhH"
      },
      "execution_count": 48,
      "outputs": []
    },
    {
      "cell_type": "markdown",
      "source": [
        "b. Create list of weight that correspond to triage level <br>"
      ],
      "metadata": {
        "id": "jtLxfbxs4rb2"
      }
    },
    {
      "cell_type": "code",
      "source": [
        "TheList = [0, 10**8, 100, 10**6, 10**8, 1, 1]"
      ],
      "metadata": {
        "id": "TxIQC8LJ4tV8"
      },
      "execution_count": 49,
      "outputs": []
    },
    {
      "cell_type": "markdown",
      "source": [
        "c. Create a dictionary named *weightPatient* which key is the index of patient and value is the weight <br>"
      ],
      "metadata": {
        "id": "RgXK0T824tww"
      }
    },
    {
      "cell_type": "code",
      "source": [
        "weightPatient = dict(zip(patientIndex, TheList))"
      ],
      "metadata": {
        "id": "l29nX-wC4vW3"
      },
      "execution_count": 50,
      "outputs": []
    },
    {
      "cell_type": "markdown",
      "source": [
        "d. Modify the objective function: Min a = sum of wⱼ(sⱼ - aⱼ), with wⱼ is the weight <br>"
      ],
      "metadata": {
        "id": "qh5HWck34vvF"
      }
    },
    {
      "cell_type": "code",
      "source": [
        "prob = LpProblem(\"NurseSchedq2\", LpMinimize)\n",
        "\n",
        "s = LpVariable.dicts(\"s\", patientIndex, 0, None, LpInteger) #s_0, s_1, s_2, ...\n",
        "c = LpVariable.dicts(\"c\", patientIndex, 0, None, LpInteger)\n",
        "z = LpVariable.dicts(\"z\", (patientIndex, patientIndex), 0, None, LpBinary)\n",
        "\n",
        "prob += lpSum((weightPatient[j]*(s[j] - arrivalPatient[j])) for j in patientIndex)"
      ],
      "metadata": {
        "id": "eBh2hCGH4xzg"
      },
      "execution_count": 51,
      "outputs": []
    },
    {
      "cell_type": "markdown",
      "source": [
        "e. Copy the constraints and solve the problem"
      ],
      "metadata": {
        "id": "zC60qKPH4yG2"
      }
    },
    {
      "cell_type": "code",
      "source": [
        "#constraints\n",
        "#Constraint 1: to make sure that for every patients, the completion time is defined as the total of start time and treatment time\n",
        "for j in range(1, len(patientIndex)):\n",
        "    prob += s[j] + treatmentPatient[j] == c[j]\n",
        "\n",
        "#Constraint 2: to make sure that if patient k is treated directly after patient j, the completion time patient j should be equal to or smaller than start time of patient k\n",
        "for j in range(1, len(patientIndex)):\n",
        "    for k in range(1, len(patientIndex)):\n",
        "        if j != k:\n",
        "            prob += c[j] - s[k] <= 1000 * (1 - z[j][k])\n",
        "\n",
        "#Constraint 3: to make sure that each patient has his predecessor (including the first one that has dummy patient with index 0 as predecessor)\n",
        "for k in range(1, len(patientIndex)):\n",
        "    prob += lpSum(z[j][k] for j in patientIndex if j != k) == 1\n",
        "\n",
        "#Constraint 4: to make sure that each patient has his successor (except the last one)\n",
        "for j in range(len(patientIndex)):\n",
        "    prob += lpSum(z[j][k] for k in range(1, len(patientIndex)) if j != k) <= 1\n",
        "\n",
        "#Constraint 5: to make sure that for every patients, the treatment start time is larger than or equal to arrival time\n",
        "for j in range(1, len(patientIndex)):\n",
        "    prob += s[j] >= arrivalPatient[j]\n",
        "\n",
        "prob.solve()\n",
        "print(\"status:\", LpStatus[prob.status])\n",
        "\n",
        "print(\"Total waiting time = \", value(prob.objective))"
      ],
      "metadata": {
        "id": "lj7uSwCO405t",
        "colab": {
          "base_uri": "https://localhost:8080/"
        },
        "outputId": "0232402c-c94d-4773-8ac9-447a0f743cdc"
      },
      "execution_count": 52,
      "outputs": [
        {
          "output_type": "stream",
          "name": "stdout",
          "text": [
            "status: Optimal\n",
            "Total waiting time =  2359009703.0\n"
          ]
        }
      ]
    },
    {
      "cell_type": "markdown",
      "source": [
        "f. Visualisation: nurse schedule (with colors that represent patients' triage level)"
      ],
      "metadata": {
        "id": "0Gc8E4lj5B5n"
      }
    },
    {
      "cell_type": "code",
      "source": [
        "fig, ax = plt.subplots(figsize=(10, 2))\n",
        "ax.set_yticks([10])\n",
        "ax.set_yticklabels(['Nurse A'])\n",
        "\n",
        "patient_colors = {'1': 'red', '2':'orange', '3':'yellow', '4':'green', '5':'blue'}\n",
        "\n",
        "for j in range(1, len(patientIndex)):\n",
        "    ax.broken_barh([(s[j].varValue, treatmentTime[j])], (5, 9), color=patient_colors[str(TriageLevel[j])],  edgecolor='black')\n",
        "    ax.text(x=(s[j].varValue+ 0.5*treatmentTime[j]), y=9.5, s=j)"
      ],
      "metadata": {
        "id": "0akWyeEo5BQr",
        "colab": {
          "base_uri": "https://localhost:8080/",
          "height": 214
        },
        "outputId": "8e04e86e-4be4-466c-8539-f2c17f706543"
      },
      "execution_count": 53,
      "outputs": [
        {
          "output_type": "display_data",
          "data": {
            "text/plain": [
              "<Figure size 1000x200 with 1 Axes>"
            ],
            "image/png": "[encoded data removed]"
          },
          "metadata": {}
        }
      ]
    },
    {
      "cell_type": "markdown",
      "source": [
        "###### Q4: Now, we add complexity. There are 3 nurses that treat the patient with the same capability. <br>\n",
        "a. Re-initialise all variables and add list of nurses"
      ],
      "metadata": {
        "id": "7Y2c2i_sMn3g"
      }
    },
    {
      "cell_type": "code",
      "source": [
        "prob_extend = LpProblem(\"NurseSchedv2\", LpMinimize)"
      ],
      "metadata": {
        "id": "b0XA-QAaOsb7"
      },
      "execution_count": 54,
      "outputs": []
    },
    {
      "cell_type": "markdown",
      "source": [
        "b. add and change the decision variable to accomodate nurse index <br>\n",
        "Decision variable: <br>\n",
        "(let j = index of patientsn n = index of nurse) <br>\n",
        "sⱼ = start time of patient j <br>\n",
        "cⱼ = completion time of patient j <br>\n",
        "zⱼₖₙ = binary variable (1 if patient k is treated directly after patient j by nurse n) <br>\n",
        "xⱼₙ = binary variable (1 if nurse n treat patient j)"
      ],
      "metadata": {
        "id": "9LfSW7QCNXQn"
      }
    },
    {
      "cell_type": "code",
      "source": [
        "s = LpVariable.dicts(\"s\", patientIndex, 0, None, LpInteger)\n",
        "c = LpVariable.dicts(\"c\", patientIndex, 0, None, LpInteger)\n",
        "z = LpVariable.dicts(\"z\", (patientIndex, patientIndex), 0, None, LpBinary) #add index\n",
        "#add x"
      ],
      "metadata": {
        "id": "L3aA-EHjOHG5"
      },
      "execution_count": 55,
      "outputs": []
    },
    {
      "cell_type": "markdown",
      "source": [
        "c. Put the objective function from Q3 (no change, as the nurse index does not matter)"
      ],
      "metadata": {
        "id": "k85gJcxjPDTQ"
      }
    },
    {
      "cell_type": "code",
      "source": [],
      "metadata": {
        "id": "MkGE_QncO_f0"
      },
      "execution_count": 55,
      "outputs": []
    },
    {
      "cell_type": "markdown",
      "source": [
        "d. Modify the constraints"
      ],
      "metadata": {
        "id": "k02ouqMuOVox"
      }
    },
    {
      "cell_type": "code",
      "source": [
        "#constraints\n",
        "#Constraint 1: to make sure that for every patients, the completion time is defined as the total of start time and treatment time\n",
        "for j in range(1, len(patientIndex)):\n",
        "    prob_extend += s[j] + treatmentPatient[j] == c[j]\n",
        "\n",
        "#constraint 2: the start time of each patient is less than his/her arrival time\n",
        "#constraint 3: for each patient, only 1 nurse assigned (= only one x_jn equals to 1 for each patient)\n",
        "\n",
        "#Constraint 4: to make sure that if patient k is treated directly after patient j, the completion time patient j should be equal to or smaller than start time of patient k\n",
        "for n in nurseIndex:\n",
        "    for j in range(1, len(patientIndex)):\n",
        "        for k in range(1, len(patientIndex)):\n",
        "            if j != k:\n",
        "                prob_extend += c[j] - s[k] <= 1000 * (1 - z[j][k][n])\n",
        "\n",
        "#Constraint 5: to make sure that each patient has his predecessor (including the first one that has dummy patient with index 0 as predecessor)\n",
        "for n in nurseIndex:\n",
        "    for k in range(1, len(patientIndex)):\n",
        "        prob_extend += lpSum(z[j][k][n] for j in patientIndex if j != k) == x[k][n]\n",
        "\n",
        "#Constraint 6: to make sure that each patient has his successor (except the last one)\n",
        "for n in nurseIndex:\n",
        "    for j in range(len(patientIndex)):\n",
        "        prob_extend += lpSum(z[j][k][n] for k in range(1, len(patientIndex)) if j != k) <= x[j][n]"
      ],
      "metadata": {
        "id": "5S_NrYu6PWdV",
        "colab": {
          "base_uri": "https://localhost:8080/",
          "height": 233
        },
        "outputId": "478c8500-b090-43cb-ae34-918d6f8ea02a"
      },
      "execution_count": 56,
      "outputs": [
        {
          "output_type": "error",
          "ename": "NameError",
          "evalue": "name 'nurseIndex' is not defined",
          "traceback": [
            "\u001b[0;31m---------------------------------------------------------------------------\u001b[0m",
            "\u001b[0;31mNameError\u001b[0m                                 Traceback (most recent call last)",
            "\u001b[0;32m<ipython-input-56-84529003a912>\u001b[0m in \u001b[0;36m<cell line: 10>\u001b[0;34m()\u001b[0m\n\u001b[1;32m      8\u001b[0m \u001b[0;34m\u001b[0m\u001b[0m\n\u001b[1;32m      9\u001b[0m \u001b[0;31m#Constraint 4: to make sure that if patient k is treated directly after patient j, the completion time patient j should be equal to or smaller than start time of patient k\u001b[0m\u001b[0;34m\u001b[0m\u001b[0;34m\u001b[0m\u001b[0m\n\u001b[0;32m---> 10\u001b[0;31m \u001b[0;32mfor\u001b[0m \u001b[0mn\u001b[0m \u001b[0;32min\u001b[0m \u001b[0mnurseIndex\u001b[0m\u001b[0;34m:\u001b[0m\u001b[0;34m\u001b[0m\u001b[0;34m\u001b[0m\u001b[0m\n\u001b[0m\u001b[1;32m     11\u001b[0m     \u001b[0;32mfor\u001b[0m \u001b[0mj\u001b[0m \u001b[0;32min\u001b[0m \u001b[0mrange\u001b[0m\u001b[0;34m(\u001b[0m\u001b[0;36m1\u001b[0m\u001b[0;34m,\u001b[0m \u001b[0mlen\u001b[0m\u001b[0;34m(\u001b[0m\u001b[0mpatientIndex\u001b[0m\u001b[0;34m)\u001b[0m\u001b[0;34m)\u001b[0m\u001b[0;34m:\u001b[0m\u001b[0;34m\u001b[0m\u001b[0;34m\u001b[0m\u001b[0m\n\u001b[1;32m     12\u001b[0m         \u001b[0;32mfor\u001b[0m \u001b[0mk\u001b[0m \u001b[0;32min\u001b[0m \u001b[0mrange\u001b[0m\u001b[0;34m(\u001b[0m\u001b[0;36m1\u001b[0m\u001b[0;34m,\u001b[0m \u001b[0mlen\u001b[0m\u001b[0;34m(\u001b[0m\u001b[0mpatientIndex\u001b[0m\u001b[0;34m)\u001b[0m\u001b[0;34m)\u001b[0m\u001b[0;34m:\u001b[0m\u001b[0;34m\u001b[0m\u001b[0;34m\u001b[0m\u001b[0m\n",
            "\u001b[0;31mNameError\u001b[0m: name 'nurseIndex' is not defined"
          ]
        }
      ]
    },
    {
      "cell_type": "code",
      "source": [
        "e. Solve the problem!"
      ],
      "metadata": {
        "id": "yu0-NvPhQ42C"
      },
      "execution_count": null,
      "outputs": []
    },
    {
      "cell_type": "code",
      "source": [],
      "metadata": {
        "id": "53qsf27hRcQV"
      },
      "execution_count": null,
      "outputs": []
    },
    {
      "cell_type": "markdown",
      "source": [
        "f. Visualisation"
      ],
      "metadata": {
        "id": "4K8I4Qji57_n"
      }
    },
    {
      "cell_type": "code",
      "source": [
        "fig, ax = plt.subplots(figsize=(10, 2))\n",
        "ax.set_yticks([10, 20, 30])\n",
        "ax.set_yticklabels(['Nurse A', 'Nurse B', 'Nurse C'])\n",
        "\n",
        "patient_colors = {'1': 'red', '2':'orange', '3':'yellow', '4':'green', '5':'blue'}\n",
        "\n",
        "i = 20\n",
        "for n in range(1, 4):\n",
        "    for j in range(1, len(patientIndex)):\n",
        "        if x[j][n].varValue == 1:\n",
        "            ax.broken_barh([(s[j].varValue, treatmentTime[j])], (i+5, 9), color=patient_colors[str(urgenceLevel[j])],  edgecolor='black')\n",
        "            ax.text(x=(s[j].varValue+ 0.5*treatmentTime[j]), y=i+9.5, s=j)\n",
        "    i = i - 10"
      ],
      "metadata": {
        "id": "T4xonbbp57f1"
      },
      "execution_count": null,
      "outputs": []
    },
    {
      "cell_type": "markdown",
      "source": [
        "f. What if we add 2 more patients: <br> Patient 7 with triage level 4 arrives at t = 29, need treatment time of 5 minutes <br> Patient 8 with triage level 3 arrives at t = 30, need treatment time of 15 minutes"
      ],
      "metadata": {
        "id": "_-MUgWVtRfc9"
      }
    },
    {
      "cell_type": "code",
      "source": [
        "prob_extend = LpProblem(\"NurseSchedv3\", LpMinimize)\n",
        "\n",
        "#insert the lists and dictionaries of all parameters\n",
        "\n",
        "#insert objective function\n",
        "#insert all constraints\n",
        "#solve problem"
      ],
      "metadata": {
        "id": "BQGzxZ5x5pp0"
      },
      "execution_count": null,
      "outputs": []
    }
  ]
}